{
 "cells": [
  {
   "cell_type": "code",
   "execution_count": 2,
   "metadata": {},
   "outputs": [],
   "source": [
    "import sys\n",
    "import subprocess"
   ]
  },
  {
   "cell_type": "code",
   "execution_count": null,
   "metadata": {},
   "outputs": [],
   "source": [
    "# provDir = sys.argv[0]\n",
    "# exampleScript = sys.argv[1]"
   ]
  },
  {
   "cell_type": "code",
   "execution_count": 1,
   "metadata": {},
   "outputs": [],
   "source": [
    "def decorateFile(exampleScript):\n",
    "    \n",
    "    find1 = '.py'\n",
    "    loc1 = exampleScript.index(find1)\n",
    "    scriptShort = exampleScript[0:loc1]\n",
    "\n",
    "    scriptNew = scriptShort+'_decorated.py'\n",
    "\n",
    "    with open(exampleScript,'r') as f:\n",
    "        ogData = f.read()\n",
    "\n",
    "    importRequired = 'import genBindings \\n'.format(provDir)\n",
    "\n",
    "    firstImport = ogData.index('import ')\n",
    "\n",
    "    ogData = ogData[:firstImport] + importRequired + ogData[firstImport:]\n",
    "\n",
    "    functFinder = 'def '\n",
    "\n",
    "    updatedData = ogData.replace('def ','@genBindings.provWrap\\ndef ')\n",
    "    \n",
    "    with open(scriptNew,'w') as f:\n",
    "        f.write(updatedData)\n",
    "        \n",
    "        "
   ]
  },
  {
   "cell_type": "code",
   "execution_count": null,
   "metadata": {},
   "outputs": [],
   "source": []
  }
 ],
 "metadata": {
  "kernelspec": {
   "display_name": "Python 3",
   "language": "python",
   "name": "python3"
  },
  "language_info": {
   "codemirror_mode": {
    "name": "ipython",
    "version": 2
   },
   "file_extension": ".py",
   "mimetype": "text/x-python",
   "name": "python",
   "nbconvert_exporter": "python",
   "pygments_lexer": "ipython2",
   "version": "2.7.12"
  }
 },
 "nbformat": 4,
 "nbformat_minor": 2
}
