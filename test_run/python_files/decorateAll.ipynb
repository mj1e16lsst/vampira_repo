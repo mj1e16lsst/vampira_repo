{
 "cells": [
  {
   "cell_type": "code",
   "execution_count": 6,
   "metadata": {},
   "outputs": [],
   "source": [
    "import types\n",
    "import functools\n",
    "import re\n"
   ]
  },
  {
   "cell_type": "code",
   "execution_count": 19,
   "metadata": {},
   "outputs": [],
   "source": [
    "def decorate_all_in_module(module, decorator):\n",
    "    for name in dir(module):\n",
    "        obj = getattr(module, name)\n",
    "        if isinstance(obj, types.FunctionType):\n",
    "            setattr(module, name, decorator(obj))\n",
    "\n",
    "def my_decorator(f):\n",
    "    @functools.wraps(f)\n",
    "    def wrapper(*args, **kwargs):\n",
    "        print(f)\n",
    "        return f(*args, **kwargs)\n",
    "    return wrapper\n",
    "\n"
   ]
  },
  {
   "cell_type": "code",
   "execution_count": null,
   "metadata": {},
   "outputs": [],
   "source": [
    "import mymod1\n",
    "decorate_all_in_module(mymod1, decorator)"
   ]
  },
  {
   "cell_type": "code",
   "execution_count": 1,
   "metadata": {},
   "outputs": [],
   "source": [
    "def findAll(inString,findx):\n",
    "    return [m.start() for m in re.finditer(findx, inString)]\n"
   ]
  },
  {
   "cell_type": "code",
   "execution_count": 9,
   "metadata": {},
   "outputs": [],
   "source": [
    "ogData = 'import types\\nimport functools\\n'"
   ]
  },
  {
   "cell_type": "code",
   "execution_count": 10,
   "metadata": {},
   "outputs": [],
   "source": [
    "imports = findAll(ogData,'import ')\n",
    "firstImport = imports[0]\n",
    "importLines = [ogData[x:x+ogData[x:].index('\\n')] for x in imports]\n"
   ]
  },
  {
   "cell_type": "code",
   "execution_count": 11,
   "metadata": {},
   "outputs": [
    {
     "name": "stdout",
     "output_type": "stream",
     "text": [
      "['import types', 'import functools']\n"
     ]
    }
   ],
   "source": [
    "print(importLines)"
   ]
  },
  {
   "cell_type": "code",
   "execution_count": 12,
   "metadata": {},
   "outputs": [],
   "source": [
    "a = ' types'\n",
    "adsj = [y for y in importLines if a in y]"
   ]
  },
  {
   "cell_type": "code",
   "execution_count": 13,
   "metadata": {},
   "outputs": [
    {
     "name": "stdout",
     "output_type": "stream",
     "text": [
      "['import types']\n"
     ]
    }
   ],
   "source": [
    "print(adsj)"
   ]
  },
  {
   "cell_type": "code",
   "execution_count": 15,
   "metadata": {},
   "outputs": [],
   "source": [
    "ogData = ogData.replace(adsj[0],adsj[0]+'\\ndecorate_all_in_module(types,provWrap)')"
   ]
  },
  {
   "cell_type": "code",
   "execution_count": 16,
   "metadata": {},
   "outputs": [
    {
     "data": {
      "text/plain": [
       "'import types\\ndecorate_all_in_module(types,provWrap)\\nimport functools\\n'"
      ]
     },
     "execution_count": 16,
     "metadata": {},
     "output_type": "execute_result"
    }
   ],
   "source": [
    "ogData"
   ]
  },
  {
   "cell_type": "code",
   "execution_count": 17,
   "metadata": {},
   "outputs": [
    {
     "name": "stdout",
     "output_type": "stream",
     "text": [
      "import types\n",
      "decorate_all_in_module(types,provWrap)\n",
      "import functools\n",
      "\n"
     ]
    }
   ],
   "source": [
    "print(ogData)"
   ]
  },
  {
   "cell_type": "code",
   "execution_count": 18,
   "metadata": {},
   "outputs": [
    {
     "name": "stdout",
     "output_type": "stream",
     "text": [
      "import matplotlib.pyplot as plot\n"
     ]
    }
   ],
   "source": [
    "string = 'import matplotlib.pyplot as plot'\n",
    "a = ' as '\n",
    "if a in string:\n",
    "    print(string)"
   ]
  },
  {
   "cell_type": "code",
   "execution_count": null,
   "metadata": {},
   "outputs": [],
   "source": [
    "\n",
    "modLocs = moduleLists.moduleLocations\n",
    "\n",
    "for mod in modLocs:\n",
    "    example_sep = vampiraTemplates.variableSeparation(mod)\n",
    "\n",
    "    for key in example_sep.keys():\n",
    "        bundle = vampiraTemplates.generateBundle(example_sep[key],vampiraTemplates.bundleStart,vampiraTemplates.bundleEnd)\n",
    "        with open(currentDir+'/templates/{}_template.provn'.format(example_sep[key][0]),'w') as f:\n",
    "            f.write(bundle)\n"
   ]
  }
 ],
 "metadata": {
  "kernelspec": {
   "display_name": "Python 2",
   "language": "python",
   "name": "python2"
  },
  "language_info": {
   "codemirror_mode": {
    "name": "ipython",
    "version": 2
   },
   "file_extension": ".py",
   "mimetype": "text/x-python",
   "name": "python",
   "nbconvert_exporter": "python",
   "pygments_lexer": "ipython2",
   "version": "2.7.12"
  }
 },
 "nbformat": 4,
 "nbformat_minor": 2
}
