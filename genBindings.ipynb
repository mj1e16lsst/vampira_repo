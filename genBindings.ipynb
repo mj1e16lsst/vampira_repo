{
 "cells": [
  {
   "cell_type": "code",
   "execution_count": 9,
   "metadata": {},
   "outputs": [],
   "source": [
    "import json\n",
    "import time\n",
    "import datetime\n",
    "from collections import defaultdict, Counter, OrderedDict\n",
    "import uuid\n",
    "import os\n",
    "ts = time.time()\n",
    "import subprocess\n",
    "import random\n",
    "\n",
    "import inspect\n",
    "import types\n",
    "import functools\n",
    "import sys"
   ]
  },
  {
   "cell_type": "code",
   "execution_count": 2,
   "metadata": {},
   "outputs": [],
   "source": [
    "#### initial setup\n",
    "\n",
    "bindings = {\n",
    "  \"context\": {\n",
    "    \"xsd\": \"http://www.w3.org/2001/XMLSchema#\",\n",
    "    \"lsim\": \"http://example.org/\",\n",
    "    \"urn_uuid\": \"urn:uuid:\",\n",
    "    \"run\": \"http://example.org/\"\n",
    "  }\n",
    "}\n",
    "\n",
    "session_id = 'simple{}'.format(time.time())\n",
    "prov_id_counter = Counter()\n",
    "prov_id_cache = dict()\n",
    "\n"
   ]
  },
  {
   "cell_type": "code",
   "execution_count": 3,
   "metadata": {},
   "outputs": [],
   "source": [
    "def timestamp():\n",
    "    ts = str(time.time())\n",
    "    return ts\n",
    "\n"
   ]
  },
  {
   "cell_type": "code",
   "execution_count": 4,
   "metadata": {},
   "outputs": [],
   "source": [
    "def datetimestamp():\n",
    "    dts = datetime.datetime.fromtimestamp(time.time()).strftime('%Y-%m-%dT%H:%M:%S')\n",
    "    return dts\n",
    "\n",
    "#### generate unique but linking identifier\n",
    "\n"
   ]
  },
  {
   "cell_type": "code",
   "execution_count": 5,
   "metadata": {},
   "outputs": [],
   "source": [
    "def gen_identifier(variable, naming_template=\"entity\"):\n",
    "    try:\n",
    "        prov_id = prov_id_cache[id(variable)]\n",
    "    except KeyError:\n",
    "        prov_id_counter[naming_template] += 1\n",
    "        prov_id = '{}_{}_{}'.format(naming_template, session_id, prov_id_counter[naming_template])\n",
    "        prov_id_cache[id(variable)] = prov_id\n",
    "    \n",
    "    #print(prov_id)\n",
    "    return prov_id\n",
    "\n",
    "\n"
   ]
  },
  {
   "cell_type": "code",
   "execution_count": 8,
   "metadata": {},
   "outputs": [],
   "source": [
    "def provcall(inlist, outlist, template, longname,jsonDir='./'):\n",
    "    identifier = uuid.uuid4()\n",
    "    bindings['var'] = {}\n",
    "    bindings['var']['messageStartTime'] = [ {\"@type\": \"xsd:dateTime\", \"@value\": datetimestamp()} ] # change to date time\n",
    "    bindings['var']['template'] = [template]\n",
    "    bindings['var']['message'] = [ {\"@id\": \"urn_uuid:\"+str(longname)+str(identifier) } ] # is this right? rm str(longname) if you broke it\n",
    "    for X in range(len(outlist)):\n",
    "        outVal = str(outlist[X])\n",
    "        if len(outVal) > 100:\n",
    "            outVal = str(outlist[X])[0:100]\n",
    "        bindings['var']['output'+str(X)] = [ {\"@id\": \"run:\"+gen_identifier(outlist[X])} ] # added value, remove if broken\n",
    "        bindings['var']['output'+str(X)+'value'] = [ {\"@value\": outVal,\"@type\":\"xsd:string\"} ]  \n",
    "    for X in range(len(inlist)):       \n",
    "        inVal = str(inlist[X])\n",
    "        if len(inVal) > 100:\n",
    "            inVal = str(inlist[X])[0:100]        \n",
    "        bindings['var']['input'+str(X)] = [ {\"@id\": \"run:\"+gen_identifier(inlist[X])} ]\n",
    "        bindings['var']['input'+str(X)+'value'] = [ {\"@value\":str(inVal),\"@type\":\"xsd:string\"} ] \n",
    "    bindings['var']['messageEndTime'] = [ {\"@type\": \"xsd:dateTime\", \"@value\": datetimestamp()} ] # change to datetime\n",
    "    \n",
    "    with open(jsonDir+longname+timestamp()+str(random.random())+\".json\", 'w') as f:\n",
    "        json.dump(bindings, f, indent=2)\n",
    "    return json.dumps(bindings)\n",
    "\n"
   ]
  },
  {
   "cell_type": "code",
   "execution_count": 1,
   "metadata": {},
   "outputs": [],
   "source": [
    "\n",
    "\n",
    "# def provcall(inlist, outlist, template, longname,jsonDir='./'):\n",
    "#     identifier = uuid.uuid4()\n",
    "#     bindings['var'] = {}\n",
    "#     bindings['var']['messageStartTime'] = [ {\"@type\": \"xsd:dateTime\", \"@value\": datetimestamp()} ] # change to date time\n",
    "#     bindings['var']['template'] = [template]\n",
    "#     bindings['var']['message'] = [ {\"@id\": \"urn_uuid:\"+str(longname)+str(identifier) } ] # is this right? rm str(longname) if you broke it\n",
    "#     for X in range(len(outlist)):\n",
    "#         outVal = str(outlist[X])\n",
    "#         bindings['var']['output'+str(X)] = [ {\"@id\": \"run:\"+gen_identifier(outlist[X])} ] # added value, remove if broken\n",
    "#         bindings['var']['output'+str(X)+'value'] = [ {\"@value\": outVal,\"@type\":\"xsd:string\"} ]  \n",
    "#     for X in range(len(inlist)):       \n",
    "#         inVal = str(inlist[X])        \n",
    "#         bindings['var']['input'+str(X)] = [ {\"@id\": \"run:\"+gen_identifier(inlist[X])} ]\n",
    "#         bindings['var']['input'+str(X)+'value'] = [ {\"@value\":str(inVal),\"@type\":\"xsd:string\"} ] \n",
    "#     bindings['var']['messageEndTime'] = [ {\"@type\": \"xsd:dateTime\", \"@value\": datetimestamp()} ] # change to datetime\n",
    "    \n",
    "#     with open(jsonDir+longname+timestamp()+str(random.random())+\".json\", 'w') as f:\n",
    "#         json.dump(bindings, f, indent=2)\n",
    "#     return json.dumps(bindings)\n",
    "\n"
   ]
  },
  {
   "cell_type": "code",
   "execution_count": 7,
   "metadata": {},
   "outputs": [],
   "source": [
    "def printDict():\n",
    "    print(prov_id_cache,\"prov_id_cache\")\n",
    "    \n",
    "#provcall([1],[2],\"daoStarFinder_PythonCode2Images_SQ_tmpl.provn\",\"daoStarFinder\")"
   ]
  },
  {
   "cell_type": "code",
   "execution_count": 99,
   "metadata": {},
   "outputs": [],
   "source": [
    "def provWrap(func):\n",
    "    '''Decorator to record provenance'''\n",
    "\n",
    "    def wrap(*args,**kwargs):\n",
    "        \n",
    "        name = func.__name__\n",
    "        longname = name\n",
    "        template = name+'_template.provn'\n",
    "        inlist = list(args)\n",
    "        \n",
    "        filePath = sys.path[0]\n",
    "        jsonDir = filePath+'/json/'\n",
    "        \n",
    "        a = inspect.getargspec(func)\n",
    "        try:\n",
    "            defaultsKeys = a.args[-len(a.defaults):] \n",
    "            defaultsVals = list(a.defaults)\n",
    "\n",
    "            kwargList = []\n",
    "\n",
    "            for k,key in enumerate(defaultsKeys):\n",
    "                if key in kwargs.keys():\n",
    "                    kwargList.append(kwargs[key])\n",
    "                else:\n",
    "                    kwargList.append(defaultsVals[k])\n",
    "\n",
    "            inlist.extend(kwargList)\n",
    "        except TypeError:\n",
    "            print('No kwargs')\n",
    "            \n",
    "        #potential bugs depending on their output format\n",
    "        outlist = [func(*args,**kwargs)]\n",
    "        \n",
    "        provcall(inlist,outlist,template,longname,jsonDir)\n",
    "        \n",
    "        return outlist\n",
    "    return wrap"
   ]
  },
  {
   "cell_type": "code",
   "execution_count": 2,
   "metadata": {},
   "outputs": [],
   "source": [
    "def decorate_all_in_module(module, decorator):\n",
    "    for name in dir(module):\n",
    "        obj = getattr(module, name)\n",
    "        if isinstance(obj, types.FunctionType):\n",
    "            setattr(module, name, decorator(obj))"
   ]
  },
  {
   "cell_type": "code",
   "execution_count": 94,
   "metadata": {},
   "outputs": [],
   "source": [
    "# @provWrap\n",
    "# def test(a,b,c=1,d=2):\n",
    "#     x = a*b*c*d\n",
    "#     return [x,a,b,c,d]"
   ]
  },
  {
   "cell_type": "code",
   "execution_count": 95,
   "metadata": {},
   "outputs": [
    {
     "name": "stdout",
     "output_type": "stream",
     "text": [
      "[1000, 1, 2, 5, 100]\n"
     ]
    }
   ],
   "source": [
    "# print(test(1,2,c=5,d=100))"
   ]
  },
  {
   "cell_type": "code",
   "execution_count": 3,
   "metadata": {},
   "outputs": [
    {
     "ename": "NameError",
     "evalue": "name 'os' is not defined",
     "output_type": "error",
     "traceback": [
      "\u001b[0;31m---------------------------------------------------------------------------\u001b[0m",
      "\u001b[0;31mNameError\u001b[0m                                 Traceback (most recent call last)",
      "\u001b[0;32m<ipython-input-3-4f7d34ec9d25>\u001b[0m in \u001b[0;36m<module>\u001b[0;34m()\u001b[0m\n\u001b[0;32m----> 1\u001b[0;31m \u001b[0mos\u001b[0m\u001b[0;34m.\u001b[0m\u001b[0mpath\u001b[0m\u001b[0;34m.\u001b[0m\u001b[0mrealpath\u001b[0m\u001b[0;34m(\u001b[0m\u001b[0m__file__\u001b[0m\u001b[0;34m)\u001b[0m\u001b[0;34m\u001b[0m\u001b[0m\n\u001b[0m",
      "\u001b[0;31mNameError\u001b[0m: name 'os' is not defined"
     ]
    }
   ],
   "source": []
  },
  {
   "cell_type": "code",
   "execution_count": null,
   "metadata": {},
   "outputs": [],
   "source": []
  }
 ],
 "metadata": {
  "kernelspec": {
   "display_name": "Python 3",
   "language": "python",
   "name": "python3"
  },
  "language_info": {
   "codemirror_mode": {
    "name": "ipython",
    "version": 2
   },
   "file_extension": ".py",
   "mimetype": "text/x-python",
   "name": "python",
   "nbconvert_exporter": "python",
   "pygments_lexer": "ipython2",
   "version": "2.7.12"
  }
 },
 "nbformat": 4,
 "nbformat_minor": 2
}
