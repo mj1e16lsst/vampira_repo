{
 "cells": [
  {
   "cell_type": "code",
   "execution_count": 1,
   "metadata": {},
   "outputs": [],
   "source": [
    "import re"
   ]
  },
  {
   "cell_type": "code",
   "execution_count": 2,
   "metadata": {},
   "outputs": [],
   "source": [
    "with open('./exampleFuntion.py','r') as f:\n",
    "    funct = f.read()"
   ]
  },
  {
   "cell_type": "code",
   "execution_count": 3,
   "metadata": {},
   "outputs": [],
   "source": [
    "def findSingle(inString, findx):\n",
    "    return [i for i, ltr in enumerate(inString) if ltr == findx]"
   ]
  },
  {
   "cell_type": "code",
   "execution_count": 4,
   "metadata": {},
   "outputs": [],
   "source": [
    "def find(inString,findx):\n",
    "    return [m.start() for m in re.finditer(findx, inString)]"
   ]
  },
  {
   "cell_type": "code",
   "execution_count": 5,
   "metadata": {},
   "outputs": [],
   "source": [
    "def separateLists(inList):\n",
    "    inputList = []\n",
    "    findC = ','\n",
    "    sepLocs = find(inList,findC)\n",
    "    sepLocs.insert(0,0)\n",
    "    sepLocs.append(len(inList))\n",
    "    \n",
    "    inputList = [inList[x:y] for x,y in zip(sepLocs[0:-1],sepLocs[1:])]\n",
    "    inputList = [x.replace(',','') for x in inputList]\n",
    "    \n",
    "    for x,inL in enumerate(inputList):\n",
    "        if '=' in inL:\n",
    "            loc1 = inL.find('=')\n",
    "            inVal = inL[:loc1]\n",
    "            inputList[x] = inVal\n",
    "    \n",
    "    return inputList"
   ]
  },
  {
   "cell_type": "code",
   "execution_count": 6,
   "metadata": {},
   "outputs": [],
   "source": [
    "def variableSeparation(inString):\n",
    "    find1 = 'def '\n",
    "    find2 = '('\n",
    "    find3 = '):'\n",
    "    find4 = 'return '\n",
    "    find5 = '\\n'\n",
    "    \n",
    "    functionDict = {}\n",
    "    \n",
    "    functionLocs = find(inString,find1)\n",
    "    \n",
    "    for fNum in range(len(functionLocs)):\n",
    "        \n",
    "        searchString = inString[functionLocs[fNum]:]\n",
    "        loc2 = searchString.index(find2)\n",
    "        loc3 = searchString.index(find3)\n",
    "        loc4 = searchString.index(find4)\n",
    "        loc5 = searchString[loc4:].index(find5) + loc4\n",
    "        \n",
    "        functName = searchString[len(find1):loc2]\n",
    "        \n",
    "        inputList = searchString[loc2+len(find2):loc3]\n",
    "        if ',' in inputList:\n",
    "            #print(inputList)\n",
    "            inputList = separateLists(inputList)\n",
    "        else:\n",
    "            inputList = [inputList]\n",
    "            \n",
    "        outputList = searchString[loc4+len(find4):loc5]\n",
    "        if ',' in outputList:\n",
    "            outputList = separateLists(outputList)\n",
    "        else:\n",
    "            outputList = [outputList]\n",
    "        \n",
    "        functionDict['funct_{}'.format(fNum)] = [functName,inputList,outputList]\n",
    "    return functionDict"
   ]
  },
  {
   "cell_type": "code",
   "execution_count": 7,
   "metadata": {},
   "outputs": [],
   "source": [
    "separated = variableSeparation(funct)"
   ]
  },
  {
   "cell_type": "code",
   "execution_count": 8,
   "metadata": {},
   "outputs": [],
   "source": [
    "bundleStart = \"\"\"\n",
    "document\n",
    "prefix prov <http://www.w3.org/ns/prov#>\n",
    "prefix tmpl <http://openprovenance.org/tmpl#>\n",
    "prefix var <http://openprovenance.org/var#>\n",
    "prefix exe <http://example.org/>\n",
    "prefix u2p <http://uml2prov.org/>\n",
    "\n",
    "bundle exe:bundle1\"\"\""
   ]
  },
  {
   "cell_type": "code",
   "execution_count": 9,
   "metadata": {},
   "outputs": [],
   "source": [
    "bundleEnd = '''\n",
    "endBundle\n",
    "endDocument'''"
   ]
  },
  {
   "cell_type": "code",
   "execution_count": 10,
   "metadata": {},
   "outputs": [],
   "source": [
    "def createInputEntities(inputList):\n",
    "    inputEntities = []\n",
    "    for i,inVal in enumerate(inputList):\n",
    "        entityString = \"\"\"\n",
    "        entity(var:input{0}, [prov:value = 'var:input{0}value'])\n",
    "        used(var:message, var:input{0}, -, [prov:role='u2p:{1}'])\"\"\".format(i,inVal)\n",
    "        \n",
    "        inputEntities.append(entityString)\n",
    "    \n",
    "    inputEntityString = '\\n'.join(inputEntities)\n",
    "    return inputEntityString"
   ]
  },
  {
   "cell_type": "code",
   "execution_count": 11,
   "metadata": {},
   "outputs": [],
   "source": [
    "def createActivity(activity,agent):\n",
    "    activityString = \"\"\"\n",
    "    activity(var:message, [prov:type = 'u2p:{0}', tmpl:startTime = 'var:messageStartTime', tmpl:endTime ='var:messageEndTime' ])\n",
    "    agent(var:lifeline, [prov:type='u2p:{1}'])\n",
    "    \n",
    "    wasAssociatedWith(var:message, var:lifeline, - , [])\n",
    "    \"\"\".format(activity,agent)\n",
    "    \n",
    "    return activityString"
   ]
  },
  {
   "cell_type": "code",
   "execution_count": 12,
   "metadata": {},
   "outputs": [],
   "source": [
    "def createOutputEntities(inputList,outputList):\n",
    "    outputEntities = []\n",
    "    for o,outVal in enumerate(outputList):\n",
    "        outputString = \"\"\"\n",
    "        entity(var:output{0}, [prov:value = 'var:output{0}value'])\n",
    "        wasGeneratedBy(var:output{0}, var:message, -, [prov:role='u2p:{1}'])\"\"\".format(o,outVal)\n",
    "        for i,inVal in enumerate(inputList):\n",
    "            derivedString = \"\"\"\n",
    "            wasDerivedFrom(var:output{}, var:input{})\"\"\".format(o,i)\n",
    "            outputString += derivedString\n",
    "        \n",
    "        outputEntities.append(outputString)\n",
    "    outputEntityString = '\\n'.join(outputEntities)\n",
    "    \n",
    "    return outputEntityString"
   ]
  },
  {
   "cell_type": "code",
   "execution_count": 13,
   "metadata": {},
   "outputs": [],
   "source": [
    "def generateBundle(function,bundleStart,bundleEnd):\n",
    "    \n",
    "    inEntities = createInputEntities(function[1])\n",
    "    activity = createActivity(function[0],'pythonCode')\n",
    "    outEntities = createOutputEntities(function[1],function[2])\n",
    "    \n",
    "    bundleList = [bundleStart,inEntities,activity,outEntities,bundleEnd]\n",
    "    bundle = '\\n'.join(bundleList)\n",
    "    \n",
    "    return bundle"
   ]
  },
  {
   "cell_type": "code",
   "execution_count": 14,
   "metadata": {},
   "outputs": [],
   "source": [
    "bundle = generateBundle(separated['funct_0'],bundleStart,bundleEnd)"
   ]
  },
  {
   "cell_type": "code",
   "execution_count": 21,
   "metadata": {},
   "outputs": [
    {
     "name": "stdout",
     "output_type": "stream",
     "text": [
      "{'funct_0': ['fourierTransform', ['imageName', 'std'], ['fourierImageName']], 'funct_1': ['sextractor', ['imageName'], ['table']], 'funct_2': ['bdsf', ['imageName'], ['bdsf_table']], 'funct_3': ['generateHistogram', ['table', 'histogramName'], ['histogramName']]}\n"
     ]
    }
   ],
   "source": [
    "with open('./test_run/exampleScript.py','r') as f:\n",
    "    script = f.read()\n",
    "\n",
    "example_sep = variableSeparation(script)\n",
    "\n",
    "print(example_sep)"
   ]
  },
  {
   "cell_type": "code",
   "execution_count": 22,
   "metadata": {},
   "outputs": [
    {
     "name": "stdout",
     "output_type": "stream",
     "text": [
      "fourierTransform\n"
     ]
    }
   ],
   "source": [
    "print(example_sep['funct_0'][0])"
   ]
  },
  {
   "cell_type": "code",
   "execution_count": 23,
   "metadata": {},
   "outputs": [],
   "source": [
    "for key in example_sep.keys():\n",
    "    bundle = generateBundle(example_sep[key],bundleStart,bundleEnd)\n",
    "    with open('./test_run/templates/{}_template.provn'.format(example_sep[key][0]),'w') as f:\n",
    "        f.write(bundle)"
   ]
  },
  {
   "cell_type": "code",
   "execution_count": 24,
   "metadata": {},
   "outputs": [],
   "source": [
    "#print(bundle)"
   ]
  },
  {
   "cell_type": "code",
   "execution_count": null,
   "metadata": {},
   "outputs": [],
   "source": []
  }
 ],
 "metadata": {
  "kernelspec": {
   "display_name": "Python 3",
   "language": "python",
   "name": "python3"
  },
  "language_info": {
   "codemirror_mode": {
    "name": "ipython",
    "version": 2
   },
   "file_extension": ".py",
   "mimetype": "text/x-python",
   "name": "python",
   "nbconvert_exporter": "python",
   "pygments_lexer": "ipython2",
   "version": "2.7.12"
  }
 },
 "nbformat": 4,
 "nbformat_minor": 2
}
