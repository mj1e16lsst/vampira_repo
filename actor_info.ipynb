{
 "cells": [
  {
   "cell_type": "code",
   "execution_count": 1,
   "metadata": {},
   "outputs": [],
   "source": [
    "import os\n",
    "import sys\n",
    "import types"
   ]
  },
  {
   "cell_type": "code",
   "execution_count": 2,
   "metadata": {},
   "outputs": [],
   "source": [
    "def getEnvironmentInfo():\n",
    "    os_info = os.uname()\n",
    "    python_info = sys.version\n",
    "    \n",
    "    modulenames = set(sys.modules) & set(globals())\n",
    "    allmodules = [sys.modules[name] for name in modulenames]\n",
    "    \n",
    "    modVersions = []\n",
    "    for mod in allmodules:\n",
    "        try:\n",
    "            modVersions.append(mod.__version__)\n",
    "        except:\n",
    "            modVersions.append('no version found')\n",
    "    return {'os_info':os_info,'python_info':python_info,'mod_names':allmodules,'mod_versions':modVersions}"
   ]
  },
  {
   "cell_type": "code",
   "execution_count": 5,
   "metadata": {},
   "outputs": [],
   "source": [
    "#info = getEnvironmentInfo()"
   ]
  },
  {
   "cell_type": "code",
   "execution_count": 6,
   "metadata": {},
   "outputs": [],
   "source": [
    "#print(info)"
   ]
  },
  {
   "cell_type": "code",
   "execution_count": null,
   "metadata": {},
   "outputs": [],
   "source": []
  }
 ],
 "metadata": {
  "kernelspec": {
   "display_name": "Python 3",
   "language": "python",
   "name": "python3"
  },
  "language_info": {
   "codemirror_mode": {
    "name": "ipython",
    "version": 2
   },
   "file_extension": ".py",
   "mimetype": "text/x-python",
   "name": "python",
   "nbconvert_exporter": "python",
   "pygments_lexer": "ipython2",
   "version": "2.7.12"
  }
 },
 "nbformat": 4,
 "nbformat_minor": 2
}
