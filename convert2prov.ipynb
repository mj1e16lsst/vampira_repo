{
 "cells": [
  {
   "cell_type": "code",
   "execution_count": 33,
   "metadata": {},
   "outputs": [],
   "source": [
    "import os\n",
    "import subprocess\n",
    "import time\n",
    "#subprocess.call(['mv','/home/mj1e16/Documents/PROV/workflow/*.json','/home/mj1e16/Documents/PROV/workflow/json'])\n"
   ]
  },
  {
   "cell_type": "code",
   "execution_count": 27,
   "metadata": {},
   "outputs": [],
   "source": [
    "templateDir = '/home/mj1e16/vampira_repo/test_run/templates/'\n",
    "jsonDir = '/home/mj1e16/vampira_repo/test_run/json/'\n",
    "provDir = '/home/mj1e16/vampira_repo/test_run/prov/'"
   ]
  },
  {
   "cell_type": "code",
   "execution_count": 26,
   "metadata": {},
   "outputs": [],
   "source": [
    "def generateLists(templateDir):\n",
    "    templatelistextra = os.listdir(templateDir)\n",
    "    \n",
    "    templatelist = []\n",
    "    for x in range(len(templatelistextra)):\n",
    "        a = templatelistextra[x].find('.')\n",
    "        if a !=0:\n",
    "            if '.provn' in templatelistextra[x]:\n",
    "                templatelist.append(templatelistextra[x])\n",
    "                \n",
    "    namelist = []\n",
    "    for x in range(len(templatelist)):\n",
    "        loc = templatelist[x].find('_')\n",
    "        if loc !=0:\n",
    "            namelist.append(templatelist[x][0:loc])\n",
    "\n",
    "    return templatelist, namelist"
   ]
  },
  {
   "cell_type": "code",
   "execution_count": 22,
   "metadata": {},
   "outputs": [],
   "source": [
    "def convertall(jsondirectory, templateDir, templatelist, namelist, provDir):\n",
    "    directorylist = os.listdir(jsondirectory)\n",
    "    for y in range(0, len(directorylist)):    \n",
    "        for x in range(0, len(namelist)):\n",
    "            a = (directorylist[y]).find(namelist[x])\n",
    "            if a != -1:\n",
    "                #print(['provconvert', '-infile', templateDir+templatelist[x], '-bindings', directorylist[y], '-bindformat', 'json', '-bindver', '3', '-outfile', provDir+namelist[x]+str(time.time())+'.provn'])\n",
    "                subprocess.call(['provconvert', '-infile', templateDir+templatelist[x], '-bindings', jsonDir+directorylist[y], '-bindformat', 'json', '-bindver', '3', '-outfile', provDir+namelist[x]+str(time.time())+'.provn'])\n",
    "                #print((['provconvert', '-infile', templateDir+templatelist[x], '-bindings', jsonDir+directorylist[y], '-bindformat', 'json', '-bindver', '3', '-outfile', provDir+namelist[x]+str(time.time())+'.provn']))\n"
   ]
  },
  {
   "cell_type": "code",
   "execution_count": 28,
   "metadata": {},
   "outputs": [],
   "source": [
    "#templatelist, namelist = generateLists(templateDir)"
   ]
  },
  {
   "cell_type": "code",
   "execution_count": 32,
   "metadata": {},
   "outputs": [],
   "source": [
    "#convertall(jsonDir, templateDir,templatelist, namelist,provDir)\n"
   ]
  },
  {
   "cell_type": "code",
   "execution_count": null,
   "metadata": {},
   "outputs": [],
   "source": []
  }
 ],
 "metadata": {
  "kernelspec": {
   "display_name": "Python 3",
   "language": "python",
   "name": "python3"
  },
  "language_info": {
   "codemirror_mode": {
    "name": "ipython",
    "version": 2
   },
   "file_extension": ".py",
   "mimetype": "text/x-python",
   "name": "python",
   "nbconvert_exporter": "python",
   "pygments_lexer": "ipython2",
   "version": "2.7.12"
  }
 },
 "nbformat": 4,
 "nbformat_minor": 2
}
